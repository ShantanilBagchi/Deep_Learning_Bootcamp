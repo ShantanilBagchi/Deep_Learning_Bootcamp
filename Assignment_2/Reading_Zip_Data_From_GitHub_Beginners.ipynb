{
  "nbformat": 4,
  "nbformat_minor": 0,
  "metadata": {
    "colab": {
      "name": "Reading Zip Data From GitHub - Beginners.ipynb",
      "provenance": [],
      "collapsed_sections": [],
      "include_colab_link": true
    },
    "kernelspec": {
      "name": "python3",
      "display_name": "Python 3"
    }
  },
  "cells": [
    {
      "cell_type": "markdown",
      "metadata": {
        "id": "view-in-github",
        "colab_type": "text"
      },
      "source": [
        "<a href=\"https://colab.research.google.com/github/dphi-official/Deep_Learning_Bootcamp/blob/master/Assignment_2/Reading_Zip_Data_From_GitHub_Beginners.ipynb\" target=\"_parent\"><img src=\"https://colab.research.google.com/assets/colab-badge.svg\" alt=\"Open In Colab\"/></a>"
      ]
    },
    {
      "cell_type": "code",
      "metadata": {
        "id": "wW5iUwUfAMaS",
        "colab_type": "code",
        "colab": {}
      },
      "source": [
        "# cloning the Datasets repository\n",
        "!git clone https://github.com/dphi-official/Datasets.git"
      ],
      "execution_count": null,
      "outputs": []
    },
    {
      "cell_type": "code",
      "metadata": {
        "id": "jlPLWR0xAvOA",
        "colab_type": "code",
        "colab": {}
      },
      "source": [
        "# copying the contents of the animal data folder to Google Drive\n",
        "!cp -r Datasets/animal_data /content/animal_data/"
      ],
      "execution_count": null,
      "outputs": []
    },
    {
      "cell_type": "code",
      "metadata": {
        "id": "8XyLG24jBiii",
        "colab_type": "code",
        "colab": {}
      },
      "source": [
        "# unzipping the contents\n",
        "!unzip animal_data/train_beg.zip"
      ],
      "execution_count": null,
      "outputs": []
    },
    {
      "cell_type": "code",
      "metadata": {
        "id": "FHBwv726ifJX",
        "colab_type": "code",
        "colab": {}
      },
      "source": [
        "# accessing the given csv file\n",
        "import pandas as pd\n",
        "labels_csv = pd.read_csv('https://raw.githubusercontent.com/dphi-official/Datasets/master/animal_data/Training_set_animals.csv')\n",
        "labels_csv.head()   # this file contains file name and corresponding labels"
      ],
      "execution_count": null,
      "outputs": []
    },
    {
      "cell_type": "code",
      "metadata": {
        "id": "y7130la4h1_6",
        "colab_type": "code",
        "colab": {}
      },
      "source": [
        "# getting the path of all image files\n",
        "filepaths = ['/content/train_beg/' + fname[:-4] + '.jpg' for fname in labels_csv['filename']]\n",
        "filepaths     "
      ],
      "execution_count": null,
      "outputs": []
    },
    {
      "cell_type": "code",
      "metadata": {
        "id": "LhpkX7YslX7i",
        "colab_type": "code",
        "colab": {
          "base_uri": "https://localhost:8080/",
          "height": 34
        },
        "outputId": "19de6e05-bef0-42f1-9620-24ea9b09bcbb"
      },
      "source": [
        "# Confirm if number of images is same as number of labels given\n",
        "if len(labels_csv) == len(filepaths):\n",
        "    print('Number of labels i.e. ', len(labels_csv), 'matches the number of filenames i.e. ', len(filepaths))\n",
        "else:\n",
        "    print('Number of labels doesnot matches the number of filenames')"
      ],
      "execution_count": null,
      "outputs": [
        {
          "output_type": "stream",
          "text": [
            "Number of labels i.e.  1200 matches the number of filenames i.e.  1200\n"
          ],
          "name": "stdout"
        }
      ]
    },
    {
      "cell_type": "code",
      "metadata": {
        "id": "Qx0O0OLOlcXt",
        "colab_type": "code",
        "colab": {}
      },
      "source": [
        "images = [[fname, '/content/train_beg/' + fname[:-4] + '.jpg'] for fname in labels_csv['filename']]\n",
        "images = pd.DataFrame(images)\n",
        "images.columns = ['filename', 'file']\n",
        "images"
      ],
      "execution_count": null,
      "outputs": []
    },
    {
      "cell_type": "markdown",
      "metadata": {
        "id": "20GLMXKkiyez",
        "colab_type": "text"
      },
      "source": [
        "Now you have the paths of all the image files. Can you combine the labels for each file in this DataFrame?\n",
        "\n",
        "There is one OpenCV function that'll help you read an image and get its pixel values. Maybe you can then loop through all the images and store their pixel values together?"
      ]
    }
  ]
}